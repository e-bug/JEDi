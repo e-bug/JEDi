{
  "nbformat": 4,
  "nbformat_minor": 0,
  "metadata": {
    "colab": {
      "provenance": [],
      "gpuType": "A100"
    },
    "kernelspec": {
      "name": "python3",
      "display_name": "Python 3"
    },
    "language_info": {
      "name": "python"
    },
    "accelerator": "GPU"
  },
  "cells": [
    {
      "cell_type": "markdown",
      "source": [
        "# 💫 Welcome to the JEDi Tutorial! 💫\n",
        "\n",
        "First, could you install our package using pip install?"
      ],
      "metadata": {
        "id": "Cgj3mffSJGp3"
      }
    },
    {
      "cell_type": "code",
      "execution_count": 1,
      "metadata": {
        "id": "Tdok5UfXt3lS",
        "colab": {
          "base_uri": "https://localhost:8080/"
        },
        "outputId": "85cd1f7a-f50b-4a5f-e431-60b4020788a9"
      },
      "outputs": [
        {
          "output_type": "stream",
          "name": "stdout",
          "text": [
            "Requirement already satisfied: videojedi==0.1.2 in /usr/local/lib/python3.10/dist-packages (0.1.2)\n",
            "Requirement already satisfied: av==12.1.0 in /usr/local/lib/python3.10/dist-packages (from videojedi==0.1.2) (12.1.0)\n",
            "Requirement already satisfied: numpy>=1.24.0 in /usr/local/lib/python3.10/dist-packages (from videojedi==0.1.2) (1.26.4)\n",
            "Requirement already satisfied: pyav==12.0.5 in /usr/local/lib/python3.10/dist-packages (from videojedi==0.1.2) (12.0.5)\n",
            "Requirement already satisfied: pytest==8.2.0 in /usr/local/lib/python3.10/dist-packages (from videojedi==0.1.2) (8.2.0)\n",
            "Requirement already satisfied: pyyaml==6.0.2 in /usr/local/lib/python3.10/dist-packages (from videojedi==0.1.2) (6.0.2)\n",
            "Requirement already satisfied: scikit-learn==1.3.2 in /usr/local/lib/python3.10/dist-packages (from videojedi==0.1.2) (1.3.2)\n",
            "Requirement already satisfied: torch==2.4.1 in /usr/local/lib/python3.10/dist-packages (from videojedi==0.1.2) (2.4.1+cu121)\n",
            "Requirement already satisfied: torchvision==0.19.1 in /usr/local/lib/python3.10/dist-packages (from videojedi==0.1.2) (0.19.1+cu121)\n",
            "Requirement already satisfied: vjepa==0.1.2 in /usr/local/lib/python3.10/dist-packages (from videojedi==0.1.2) (0.1.2)\n",
            "Requirement already satisfied: iniconfig in /usr/local/lib/python3.10/dist-packages (from pytest==8.2.0->videojedi==0.1.2) (2.0.0)\n",
            "Requirement already satisfied: packaging in /usr/local/lib/python3.10/dist-packages (from pytest==8.2.0->videojedi==0.1.2) (24.1)\n",
            "Requirement already satisfied: pluggy<2.0,>=1.5 in /usr/local/lib/python3.10/dist-packages (from pytest==8.2.0->videojedi==0.1.2) (1.5.0)\n",
            "Requirement already satisfied: exceptiongroup>=1.0.0rc8 in /usr/local/lib/python3.10/dist-packages (from pytest==8.2.0->videojedi==0.1.2) (1.2.2)\n",
            "Requirement already satisfied: tomli>=1 in /usr/local/lib/python3.10/dist-packages (from pytest==8.2.0->videojedi==0.1.2) (2.0.2)\n",
            "Requirement already satisfied: scipy>=1.5.0 in /usr/local/lib/python3.10/dist-packages (from scikit-learn==1.3.2->videojedi==0.1.2) (1.13.1)\n",
            "Requirement already satisfied: joblib>=1.1.1 in /usr/local/lib/python3.10/dist-packages (from scikit-learn==1.3.2->videojedi==0.1.2) (1.4.2)\n",
            "Requirement already satisfied: threadpoolctl>=2.0.0 in /usr/local/lib/python3.10/dist-packages (from scikit-learn==1.3.2->videojedi==0.1.2) (3.5.0)\n",
            "Requirement already satisfied: filelock in /usr/local/lib/python3.10/dist-packages (from torch==2.4.1->videojedi==0.1.2) (3.16.1)\n",
            "Requirement already satisfied: typing-extensions>=4.8.0 in /usr/local/lib/python3.10/dist-packages (from torch==2.4.1->videojedi==0.1.2) (4.12.2)\n",
            "Requirement already satisfied: sympy in /usr/local/lib/python3.10/dist-packages (from torch==2.4.1->videojedi==0.1.2) (1.13.3)\n",
            "Requirement already satisfied: networkx in /usr/local/lib/python3.10/dist-packages (from torch==2.4.1->videojedi==0.1.2) (3.3)\n",
            "Requirement already satisfied: jinja2 in /usr/local/lib/python3.10/dist-packages (from torch==2.4.1->videojedi==0.1.2) (3.1.4)\n",
            "Requirement already satisfied: fsspec in /usr/local/lib/python3.10/dist-packages (from torch==2.4.1->videojedi==0.1.2) (2024.6.1)\n",
            "Requirement already satisfied: pillow!=8.3.*,>=5.3.0 in /usr/local/lib/python3.10/dist-packages (from torchvision==0.19.1->videojedi==0.1.2) (10.4.0)\n",
            "Requirement already satisfied: beartype<0.20.0,>=0.19.0 in /usr/local/lib/python3.10/dist-packages (from vjepa==0.1.2->videojedi==0.1.2) (0.19.0)\n",
            "Requirement already satisfied: braceexpand<0.2.0,>=0.1.7 in /usr/local/lib/python3.10/dist-packages (from vjepa==0.1.2->videojedi==0.1.2) (0.1.7)\n",
            "Requirement already satisfied: decord<0.7.0,>=0.6.0 in /usr/local/lib/python3.10/dist-packages (from vjepa==0.1.2->videojedi==0.1.2) (0.6.0)\n",
            "Requirement already satisfied: einops<0.9.0,>=0.8.0 in /usr/local/lib/python3.10/dist-packages (from vjepa==0.1.2->videojedi==0.1.2) (0.8.0)\n",
            "Requirement already satisfied: opencv-python<5.0.0.0,>=4.10.0.84 in /usr/local/lib/python3.10/dist-packages (from vjepa==0.1.2->videojedi==0.1.2) (4.10.0.84)\n",
            "Requirement already satisfied: pandas==2.2.2 in /usr/local/lib/python3.10/dist-packages (from vjepa==0.1.2->videojedi==0.1.2) (2.2.2)\n",
            "Requirement already satisfied: submitit<2.0.0,>=1.5.2 in /usr/local/lib/python3.10/dist-packages (from vjepa==0.1.2->videojedi==0.1.2) (1.5.2)\n",
            "Requirement already satisfied: timm<2.0.0,>=1.0.9 in /usr/local/lib/python3.10/dist-packages (from vjepa==0.1.2->videojedi==0.1.2) (1.0.9)\n",
            "Requirement already satisfied: webdataset<0.3.0,>=0.2.100 in /usr/local/lib/python3.10/dist-packages (from vjepa==0.1.2->videojedi==0.1.2) (0.2.100)\n",
            "Requirement already satisfied: python-dateutil>=2.8.2 in /usr/local/lib/python3.10/dist-packages (from pandas==2.2.2->vjepa==0.1.2->videojedi==0.1.2) (2.8.2)\n",
            "Requirement already satisfied: pytz>=2020.1 in /usr/local/lib/python3.10/dist-packages (from pandas==2.2.2->vjepa==0.1.2->videojedi==0.1.2) (2024.2)\n",
            "Requirement already satisfied: tzdata>=2022.7 in /usr/local/lib/python3.10/dist-packages (from pandas==2.2.2->vjepa==0.1.2->videojedi==0.1.2) (2024.2)\n",
            "Requirement already satisfied: cloudpickle>=1.2.1 in /usr/local/lib/python3.10/dist-packages (from submitit<2.0.0,>=1.5.2->vjepa==0.1.2->videojedi==0.1.2) (2.2.1)\n",
            "Requirement already satisfied: huggingface_hub in /usr/local/lib/python3.10/dist-packages (from timm<2.0.0,>=1.0.9->vjepa==0.1.2->videojedi==0.1.2) (0.24.7)\n",
            "Requirement already satisfied: safetensors in /usr/local/lib/python3.10/dist-packages (from timm<2.0.0,>=1.0.9->vjepa==0.1.2->videojedi==0.1.2) (0.4.5)\n",
            "Requirement already satisfied: MarkupSafe>=2.0 in /usr/local/lib/python3.10/dist-packages (from jinja2->torch==2.4.1->videojedi==0.1.2) (2.1.5)\n",
            "Requirement already satisfied: mpmath<1.4,>=1.1.0 in /usr/local/lib/python3.10/dist-packages (from sympy->torch==2.4.1->videojedi==0.1.2) (1.3.0)\n",
            "Requirement already satisfied: six>=1.5 in /usr/local/lib/python3.10/dist-packages (from python-dateutil>=2.8.2->pandas==2.2.2->vjepa==0.1.2->videojedi==0.1.2) (1.16.0)\n",
            "Requirement already satisfied: requests in /usr/local/lib/python3.10/dist-packages (from huggingface_hub->timm<2.0.0,>=1.0.9->vjepa==0.1.2->videojedi==0.1.2) (2.32.3)\n",
            "Requirement already satisfied: tqdm>=4.42.1 in /usr/local/lib/python3.10/dist-packages (from huggingface_hub->timm<2.0.0,>=1.0.9->vjepa==0.1.2->videojedi==0.1.2) (4.66.5)\n",
            "Requirement already satisfied: charset-normalizer<4,>=2 in /usr/local/lib/python3.10/dist-packages (from requests->huggingface_hub->timm<2.0.0,>=1.0.9->vjepa==0.1.2->videojedi==0.1.2) (3.3.2)\n",
            "Requirement already satisfied: idna<4,>=2.5 in /usr/local/lib/python3.10/dist-packages (from requests->huggingface_hub->timm<2.0.0,>=1.0.9->vjepa==0.1.2->videojedi==0.1.2) (3.10)\n",
            "Requirement already satisfied: urllib3<3,>=1.21.1 in /usr/local/lib/python3.10/dist-packages (from requests->huggingface_hub->timm<2.0.0,>=1.0.9->vjepa==0.1.2->videojedi==0.1.2) (2.2.3)\n",
            "Requirement already satisfied: certifi>=2017.4.17 in /usr/local/lib/python3.10/dist-packages (from requests->huggingface_hub->timm<2.0.0,>=1.0.9->vjepa==0.1.2->videojedi==0.1.2) (2024.8.30)\n"
          ]
        }
      ],
      "source": [
        "!pip install videojedi==0.1.2"
      ]
    },
    {
      "cell_type": "markdown",
      "source": [
        "# Get MMNIST data loader."
      ],
      "metadata": {
        "id": "SnDVGaJhiOHC"
      }
    },
    {
      "cell_type": "markdown",
      "source": [],
      "metadata": {
        "id": "tdnTLwK5Jou_"
      }
    },
    {
      "cell_type": "code",
      "source": [
        "import torch\n",
        "def custom_collate(batch):\n",
        "    import torch\n",
        "    videos, labels = [], []\n",
        "    for video in batch:\n",
        "        videos.append(video)\n",
        "    return torch.utils.data.dataloader.default_collate(videos), None\n",
        "\n",
        "def get_MMNIST_loader(train=True, batch_size=20, image_size=(240, 320)):\n",
        "    from torchvision.datasets import MovingMNIST\n",
        "    from torch.utils.data import DataLoader\n",
        "    from torchvision import transforms\n",
        "    import av\n",
        "    import torch.nn as nn\n",
        "\n",
        "    transform = transforms.Compose([\n",
        "                # TODO: this should be done by a video-level transfrom when PyTorch provides transforms.ToTensor() for video\n",
        "                # scale in [0, 1] of type float\n",
        "                transforms.Lambda(lambda x: x / 255.),\n",
        "                # change from 1 channel to 3\n",
        "                transforms.Lambda(lambda x: x.repeat(1, 3, 1, 1)),\n",
        "                # # reshape into (T, C, H, W) for easier convolutions\n",
        "                # transforms.Lambda(lambda x: x.permute(0, 3, 1, 2)),\n",
        "                # rescale to the most common size\n",
        "                transforms.Lambda(lambda x: nn.functional.interpolate(x, image_size)),\n",
        "    ])\n",
        "    mmnist = MovingMNIST(\".\", split=\"train\" if train else \"test\", download=True, transform=transform)\n",
        "    return DataLoader(mmnist, batch_size=batch_size, shuffle=True, collate_fn=custom_collate)\n",
        "\n",
        "train_loader = get_MMNIST_loader(train=True)\n",
        "test_loader = get_MMNIST_loader(train=False)"
      ],
      "metadata": {
        "id": "6_jvrYNCD-1h"
      },
      "execution_count": 2,
      "outputs": []
    },
    {
      "cell_type": "markdown",
      "source": [
        "# Compute metric."
      ],
      "metadata": {
        "id": "qotxbSoYiYcf"
      }
    },
    {
      "cell_type": "code",
      "source": [
        "from videojedi import JEDiMetric\n",
        "jedi = JEDiMetric(feature_path='.', model_dir='.')\n",
        "jedi.load_features(train_loader=train_loader, test_loader=test_loader, num_samples=1500)\n",
        "assert jedi.train_features.shape == (1500, 1280)\n",
        "assert jedi.test_features.shape == (1500, 1280)"
      ],
      "metadata": {
        "id": "o290ZkxLIj_E",
        "colab": {
          "base_uri": "https://localhost:8080/"
        },
        "outputId": "642d8ab1-c8c9-4905-a5e2-95cf1d5614c6"
      },
      "execution_count": 3,
      "outputs": [
        {
          "output_type": "stream",
          "name": "stderr",
          "text": [
            "/usr/local/lib/python3.10/dist-packages/videojedi/JEDi.py:11: UserWarning: feature_path is not provided, will not save computed features.\n",
            "  warnings.warn(\"feature_path is not provided, will not save computed features.\")\n",
            "INFO:root:loaded params...\n",
            "INFO:root:SLURM vars not set (distributed training not available)\n",
            "INFO:root:Initialized (rank/world-size) 0/1\n",
            "INFO:root:Loading pretrained model from ./vith16.pth.tar\n",
            "/usr/local/lib/python3.10/dist-packages/videojedi/V_JEPA.py:117: FutureWarning: You are using `torch.load` with `weights_only=False` (the current default value), which uses the default pickle module implicitly. It is possible to construct malicious pickle data which will execute arbitrary code during unpickling (See https://github.com/pytorch/pytorch/blob/main/SECURITY.md#untrusted-models for more details). In a future release, the default value for `weights_only` will be flipped to `True`. This limits the functions that could be executed during unpickling. Arbitrary objects will no longer be allowed to be loaded via this mode unless they are explicitly allowlisted by the user via `torch.serialization.add_safe_globals`. We recommend you start setting `weights_only=True` for any use case where you don't have full control of the loaded file. Please open an issue on GitHub for any issues related to this experimental feature.\n",
            "  checkpoint = torch.load(pretrained, map_location='cpu')\n",
            "INFO:root:loaded pretrained model with msg: <All keys matched successfully>\n",
            "INFO:root:loaded pretrained encoder from epoch: 300\n",
            " path: ./vith16.pth.tar\n"
          ]
        },
        {
          "output_type": "stream",
          "name": "stdout",
          "text": [
            "VisionTransformer(\n",
            "  (patch_embed): PatchEmbed3D(\n",
            "    (proj): Conv3d(3, 1280, kernel_size=(2, 16, 16), stride=(2, 16, 16))\n",
            "  )\n",
            "  (blocks): ModuleList(\n",
            "    (0-31): 32 x Block(\n",
            "      (norm1): LayerNorm((1280,), eps=1e-06, elementwise_affine=True)\n",
            "      (attn): Attention(\n",
            "        (qkv): Linear(in_features=1280, out_features=3840, bias=True)\n",
            "        (attn_drop): Dropout(p=0.0, inplace=False)\n",
            "        (proj): Linear(in_features=1280, out_features=1280, bias=True)\n",
            "        (proj_drop): Dropout(p=0.0, inplace=False)\n",
            "      )\n",
            "      (norm2): LayerNorm((1280,), eps=1e-06, elementwise_affine=True)\n",
            "      (mlp): MLP(\n",
            "        (fc1): Linear(in_features=1280, out_features=5120, bias=True)\n",
            "        (act): GELU(approximate='none')\n",
            "        (fc2): Linear(in_features=5120, out_features=1280, bias=True)\n",
            "        (drop): Dropout(p=0.0, inplace=False)\n",
            "      )\n",
            "    )\n",
            "  )\n",
            "  (norm): LayerNorm((1280,), eps=1e-06, elementwise_affine=True)\n",
            ")\n"
          ]
        },
        {
          "output_type": "stream",
          "name": "stderr",
          "text": [
            "/usr/local/lib/python3.10/dist-packages/videojedi/V_JEPA.py:144: FutureWarning: You are using `torch.load` with `weights_only=False` (the current default value), which uses the default pickle module implicitly. It is possible to construct malicious pickle data which will execute arbitrary code during unpickling (See https://github.com/pytorch/pytorch/blob/main/SECURITY.md#untrusted-models for more details). In a future release, the default value for `weights_only` will be flipped to `True`. This limits the functions that could be executed during unpickling. Arbitrary objects will no longer be allowed to be loaded via this mode unless they are explicitly allowlisted by the user via `torch.serialization.add_safe_globals`. We recommend you start setting `weights_only=True` for any use case where you don't have full control of the loaded file. Please open an issue on GitHub for any issues related to this experimental feature.\n",
            "  checkpoint = torch.load(r_path, map_location=device)\n",
            "INFO:root:loaded pretrained classifier from epoch 20 with msg: <All keys matched successfully>\n"
          ]
        },
        {
          "output_type": "stream",
          "name": "stdout",
          "text": [
            "Computing features for training set\n"
          ]
        },
        {
          "output_type": "stream",
          "name": "stderr",
          "text": [
            "/usr/lib/python3.10/contextlib.py:103: FutureWarning: `torch.backends.cuda.sdp_kernel()` is deprecated. In the future, this context manager will be removed. Please see `torch.nn.attention.sdpa_kernel()` for the new context manager, with updated signature.\n",
            "  self.gen = func(*args, **kwds)\n"
          ]
        },
        {
          "output_type": "stream",
          "name": "stdout",
          "text": [
            "Saved features to ./train.npy\n",
            "Computing features for testing set\n",
            "Saved features to ./test.npy\n"
          ]
        }
      ]
    },
    {
      "cell_type": "code",
      "source": [
        "print(f\"JEDi Metric: {jedi.compute_metric()}\")"
      ],
      "metadata": {
        "id": "vTDKjgh5JEzd",
        "colab": {
          "base_uri": "https://localhost:8080/"
        },
        "outputId": "6af8aec7-7321-4471-9c4e-6063ddafb05a"
      },
      "execution_count": 4,
      "outputs": [
        {
          "output_type": "stream",
          "name": "stdout",
          "text": [
            "JEDi Metric: 0.00691339373588562\n"
          ]
        }
      ]
    },
    {
      "cell_type": "markdown",
      "source": [
        "Alternatively, you can load your pre-extracted V-JEPA features using Numpy and directly calculate the distribution distance"
      ],
      "metadata": {
        "id": "6y1g1s0bJwvC"
      }
    },
    {
      "cell_type": "code",
      "source": [
        "from videojedi import JEDiMetric\n",
        "import numpy as np\n",
        "jedi = JEDiMetric()\n",
        "jedi.train_features = np.random.rand(5000, 1280)\n",
        "jedi.test_features = np.random.rand(5000, 1280)\n",
        "print(f\"JEDi Metric: {jedi.compute_metric()}\")"
      ],
      "metadata": {
        "id": "-IKGfAbZALiE",
        "colab": {
          "base_uri": "https://localhost:8080/"
        },
        "outputId": "1fa9951f-4015-4667-bb6f-163e96962230"
      },
      "execution_count": 5,
      "outputs": [
        {
          "output_type": "stream",
          "name": "stdout",
          "text": [
            "JEDi Metric: 0.001983016839501861\n"
          ]
        }
      ]
    }
  ]
}